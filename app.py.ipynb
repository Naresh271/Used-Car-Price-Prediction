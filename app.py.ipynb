{
 "cells": [
  {
   "cell_type": "code",
   "execution_count": null,
   "id": "0d6405e4",
   "metadata": {},
   "outputs": [
    {
     "name": "stdout",
     "output_type": "stream",
     "text": [
      " * Serving Flask app '__main__'\n",
      " * Debug mode: off\n"
     ]
    },
    {
     "name": "stderr",
     "output_type": "stream",
     "text": [
      "WARNING: This is a development server. Do not use it in a production deployment. Use a production WSGI server instead.\n",
      " * Running on http://127.0.0.1:5000\n",
      "Press CTRL+C to quit\n",
      "127.0.0.1 - - [27/Feb/2024 13:35:32] \"GET / HTTP/1.1\" 200 -\n",
      "127.0.0.1 - - [27/Feb/2024 13:35:32] \"GET /static/css/style.css HTTP/1.1\" 304 -\n",
      "127.0.0.1 - - [27/Feb/2024 13:35:32] \"GET /static/air.png HTTP/1.1\" 304 -\n",
      "127.0.0.1 - - [27/Feb/2024 15:40:33] \"POST /predict HTTP/1.1\" 200 -\n",
      "127.0.0.1 - - [27/Feb/2024 15:40:33] \"GET /static/css/style.css HTTP/1.1\" 304 -\n",
      "127.0.0.1 - - [27/Feb/2024 15:40:33] \"GET /static/air.png HTTP/1.1\" 304 -\n"
     ]
    },
    {
     "name": "stdout",
     "output_type": "stream",
     "text": [
      "4\n"
     ]
    },
    {
     "name": "stderr",
     "output_type": "stream",
     "text": [
      "127.0.0.1 - - [27/Feb/2024 15:41:08] \"POST /predict HTTP/1.1\" 200 -\n",
      "127.0.0.1 - - [27/Feb/2024 15:41:08] \"GET /static/css/style.css HTTP/1.1\" 304 -\n",
      "127.0.0.1 - - [27/Feb/2024 15:41:08] \"GET /static/air.png HTTP/1.1\" 304 -\n"
     ]
    },
    {
     "name": "stdout",
     "output_type": "stream",
     "text": [
      "4\n"
     ]
    },
    {
     "name": "stderr",
     "output_type": "stream",
     "text": [
      "127.0.0.1 - - [27/Feb/2024 15:41:17] \"GET / HTTP/1.1\" 200 -\n",
      "127.0.0.1 - - [27/Feb/2024 15:41:17] \"GET /static/css/style.css HTTP/1.1\" 304 -\n",
      "127.0.0.1 - - [27/Feb/2024 15:41:17] \"GET /static/air.png HTTP/1.1\" 304 -\n",
      "127.0.0.1 - - [27/Feb/2024 15:46:48] \"GET / HTTP/1.1\" 200 -\n",
      "127.0.0.1 - - [27/Feb/2024 15:46:48] \"GET /static/css/style.css HTTP/1.1\" 200 -\n",
      "127.0.0.1 - - [27/Feb/2024 15:46:48] \"GET /static/air.png HTTP/1.1\" 200 -\n",
      "127.0.0.1 - - [27/Feb/2024 15:46:50] \"GET /favicon.ico HTTP/1.1\" 404 -\n",
      "127.0.0.1 - - [27/Feb/2024 15:47:21] \"GET / HTTP/1.1\" 200 -\n",
      "127.0.0.1 - - [27/Feb/2024 15:47:22] \"GET /static/css/style.css HTTP/1.1\" 304 -\n",
      "127.0.0.1 - - [27/Feb/2024 15:47:22] \"GET /static/air.png HTTP/1.1\" 304 -\n",
      "127.0.0.1 - - [27/Feb/2024 15:47:28] \"GET / HTTP/1.1\" 200 -\n",
      "127.0.0.1 - - [27/Feb/2024 15:47:28] \"GET /static/css/style.css HTTP/1.1\" 304 -\n",
      "127.0.0.1 - - [27/Feb/2024 15:47:28] \"GET /static/air.png HTTP/1.1\" 304 -\n",
      "127.0.0.1 - - [27/Feb/2024 15:47:42] \"GET / HTTP/1.1\" 200 -\n",
      "127.0.0.1 - - [27/Feb/2024 15:47:43] \"GET /static/css/style.css HTTP/1.1\" 304 -\n",
      "127.0.0.1 - - [27/Feb/2024 15:47:43] \"GET /static/air.png HTTP/1.1\" 304 -\n",
      "127.0.0.1 - - [27/Feb/2024 15:48:34] \"GET / HTTP/1.1\" 200 -\n",
      "127.0.0.1 - - [27/Feb/2024 15:48:35] \"GET /static/css/style.css HTTP/1.1\" 304 -\n",
      "127.0.0.1 - - [27/Feb/2024 15:48:35] \"GET /static/air.png HTTP/1.1\" 304 -\n"
     ]
    }
   ],
   "source": [
    "import numpy as np\n",
    "from flask import Flask, request, render_template\n",
    "import pickle\n",
    "\n",
    "app = Flask(__name__)\n",
    "model = pickle.load(open('regressor.pkl', 'rb'))\n",
    "lb = pickle.load(open('lb', 'rb'))\n",
    "lb1 = pickle.load(open('lb1', 'rb'))\n",
    "\n",
    "#HomePage\n",
    "@app.route('/')\n",
    "def home():\n",
    "    return render_template('index.html')\n",
    "\n",
    "#prediction of car price\n",
    "@app.route('/predict',methods=['POST'])\n",
    "def predict():\n",
    "    '''\n",
    "    For rendering results on HTML GUI\n",
    "    '''\n",
    "    features = [str(x) for x in request.form.values()]\n",
    "    year = int(features[0])\n",
    "    kms_driven = int(features[1])\n",
    "    final_features = []\n",
    "    #a=[]\n",
    "    #a = \n",
    "    #print(a)\n",
    "    final_features.append(year)\n",
    "    final_features.append(kms_driven)\n",
    "    final_features.append(lb.transform([features[2]])[0])\n",
    "    final_features.append(lb1.transform([features[3]])[0])\n",
    "    print(len(final_features))\n",
    "    prediction = model.predict([final_features])\n",
    "    output = round(prediction[0], 2)    \n",
    "    return render_template('index.html',prediction_text = output)\n",
    " \n",
    "\n",
    "\n",
    "if __name__ == \"__main__\":\n",
    "    app.run(debug=False)\n"
   ]
  },
  {
   "cell_type": "code",
   "execution_count": null,
   "id": "6bdba512",
   "metadata": {},
   "outputs": [],
   "source": []
  }
 ],
 "metadata": {
  "kernelspec": {
   "display_name": "Python 3 (ipykernel)",
   "language": "python",
   "name": "python3"
  },
  "language_info": {
   "codemirror_mode": {
    "name": "ipython",
    "version": 3
   },
   "file_extension": ".py",
   "mimetype": "text/x-python",
   "name": "python",
   "nbconvert_exporter": "python",
   "pygments_lexer": "ipython3",
   "version": "3.10.9"
  }
 },
 "nbformat": 4,
 "nbformat_minor": 5
}
